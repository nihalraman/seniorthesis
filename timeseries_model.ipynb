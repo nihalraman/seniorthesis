{
 "cells": [
  {
   "cell_type": "code",
   "execution_count": 1,
   "id": "fffe03aa-78b2-41d7-ba3d-4e55f44c5613",
   "metadata": {},
   "outputs": [],
   "source": [
    "import numpy as np\n",
    "import matplotlib.pyplot as plt\n",
    "import os\n",
    "\n",
    "from sklearn.decomposition import PCA\n",
    "from sklearn.linear_model import RidgeClassifier\n",
    "from sklearn.pipeline import make_pipeline\n",
    "\n",
    "from sktime.transformations.panel.rocket import Rocket\n",
    "\n",
    "import pandas as pd"
   ]
  },
  {
   "cell_type": "code",
   "execution_count": 2,
   "id": "f4945d12-e70c-4e69-8a53-e0c2258fe764",
   "metadata": {},
   "outputs": [],
   "source": [
    "path = \"/Users/nraman/Documents/thesis_videos/\"\n",
    "\n",
    "lower = [76, 77, 90, 180, 85, 16, 315, 404, 320, 307]\n",
    "\n",
    "upper = [184, 74, 73, 72, 11, 302, 303, 304, 408, 306]\n",
    "\n",
    "u2 = [61, 185, 40, 39, 37, 0, 267, 269, 270, 409]\n",
    "l2 = [291, 375, 321, 405, 314, 17, 84, 181, 91, 146]\n",
    "\n",
    "u3 = [57, 186, 92, 165, 167, 164, 393, 391, 322, 410]\n",
    "l3 = [287, 273, 335, 406, 313, 18, 83, 182, 106, 43]\n",
    "\n",
    "combo_indices = lower + upper + u2 + l2 + u3 + l3"
   ]
  },
  {
   "cell_type": "code",
   "execution_count": 3,
   "id": "e2904a19-7f02-49e6-a3f5-b5102a8dae86",
   "metadata": {},
   "outputs": [],
   "source": [
    "subfolders = [i for i in os.listdir(path) if \".mp4\" not in i and \".DS_Store\" not in i]\n",
    "\n",
    "def find_pointfolder(subfolder, path = \"/Users/nraman/Documents/thesis_videos/\"):\n",
    "    cur_path = f\"{path}{subfolder}\"\n",
    "    # get names of files within the subfolder\n",
    "    subfiles = os.listdir(f\"{path}{subfolder}\")\n",
    "    nps = [i for i in subfiles if \".npy\" in i]\n",
    "    \n",
    "    if(len(nps) > 1):\n",
    "        return(\"Error: Multiple np arrays saved in the folder\")\n",
    "    else:\n",
    "        array = np.load(f\"{cur_path}/{nps[0]}\")\n",
    "        array = array[:, combo_indices]\n",
    "        return(array.reshape(array.shape[0], len(combo_indices)*2))"
   ]
  },
  {
   "cell_type": "code",
   "execution_count": 4,
   "id": "10bada6a-4929-4434-b0ae-975508f9c813",
   "metadata": {},
   "outputs": [],
   "source": [
    "ground_folders = [i for i in subfolders if \"ground\" in i]\n",
    "speak_folders = [i for i in subfolders if \"ground\" not in i]\n",
    "\n",
    "ground_data = []\n",
    "speak_data = []\n",
    "\n",
    "for g in ground_folders:\n",
    "    ground_data.append(find_pointfolder(g))\n",
    "\n",
    "ground_data = np.concatenate(ground_data)\n",
    "\n",
    "for s in speak_folders:\n",
    "    speak_data.append(find_pointfolder(s))"
   ]
  },
  {
   "cell_type": "code",
   "execution_count": 5,
   "id": "ea37f8f5-798e-418b-9dc0-680b033bb961",
   "metadata": {},
   "outputs": [],
   "source": [
    "#pd.DataFrame(eval([speak_data[0][:, i] for i in range(len(combo_indices))]))\n",
    "trainsize = 70\n",
    "trainplus = 40\n",
    "window = 12\n",
    "\n",
    "df=pd.DataFrame(np.zeros([trainsize, len(combo_indices)*2]))\n",
    "df=df.astype(object)  # this line allows the signment of the array\n",
    "\n",
    "for j in range(trainsize):\n",
    "    for a in range(len(combo_indices)*2):\n",
    "        if(j < trainplus):\n",
    "            df.iloc[j, a] = pd.Series(speak_data[j][:, a][:window])\n",
    "        else:\n",
    "            df.iloc[j, a] = pd.Series(ground_data[(j-trainplus)*window: ((j-trainplus)+1)*window][:, a])"
   ]
  },
  {
   "cell_type": "code",
   "execution_count": 6,
   "id": "14c46015-89f9-434b-afa4-4491b9eb02be",
   "metadata": {},
   "outputs": [],
   "source": [
    "testsize = 20\n",
    "testplus = 7\n",
    "buffer = 12*(trainsize - trainplus)\n",
    "\n",
    "testX=pd.DataFrame(np.zeros((testsize, len(combo_indices)*2))).astype(object)\n",
    "\n",
    "for j in range(testsize):\n",
    "    for a in range(len(combo_indices)*2):\n",
    "        if(j < testplus):\n",
    "            testX.iloc[j, a] = pd.Series(speak_data[-j][:, a][:12])\n",
    "        else:\n",
    "            testX.iloc[j, a] = pd.Series(ground_data[(j-testplus)*12 + buffer: ((j-testplus)+1)*12 + buffer][:, a])"
   ]
  },
  {
   "cell_type": "code",
   "execution_count": 7,
   "id": "ef16a084-dd3c-4a12-b225-27640ed397a5",
   "metadata": {},
   "outputs": [],
   "source": [
    "ytrain = np.concatenate([np.ones(trainplus), np.zeros(trainsize - trainplus)])\n",
    "ytest = np.concatenate([np.ones(testplus), np.zeros(testsize - testplus)])"
   ]
  },
  {
   "cell_type": "code",
   "execution_count": 8,
   "id": "5b51ad7c-6209-48a7-87b5-76f2c60fe560",
   "metadata": {},
   "outputs": [],
   "source": [
    "# df is for training\n",
    "#train_y = np.concatenate([np.ones(30), np.zeros(30)])\n",
    "\n",
    "rocket = Rocket()  # by default, ROCKET uses 10,000 kernels\n",
    "rocket.fit(df)\n",
    "X_train_transform = rocket.transform(df)"
   ]
  },
  {
   "cell_type": "code",
   "execution_count": 9,
   "id": "58b24592-aa58-4380-8999-f7830fa254e5",
   "metadata": {},
   "outputs": [
    {
     "data": {
      "text/plain": [
       "RidgeClassifier(random_state=50, solver='sag')"
      ]
     },
     "execution_count": 9,
     "metadata": {},
     "output_type": "execute_result"
    }
   ],
   "source": [
    "classifier = RidgeClassifier(solver = \"sag\", random_state = 50)\n",
    "classifier.fit(X_train_transform, ytrain)"
   ]
  },
  {
   "cell_type": "code",
   "execution_count": 10,
   "id": "e789ec3f-a978-4073-b379-c1878042b233",
   "metadata": {},
   "outputs": [
    {
     "data": {
      "text/plain": [
       "0.95"
      ]
     },
     "execution_count": 10,
     "metadata": {},
     "output_type": "execute_result"
    }
   ],
   "source": [
    "classifier.score(rocket.transform(testX), ytest)"
   ]
  },
  {
   "cell_type": "code",
   "execution_count": null,
   "id": "8184fb8e-ba39-4406-9cde-827c97ee36d6",
   "metadata": {},
   "outputs": [],
   "source": []
  },
  {
   "cell_type": "code",
   "execution_count": null,
   "id": "5fc2b7f6-33a6-4c24-83c4-e35af65699ac",
   "metadata": {},
   "outputs": [],
   "source": []
  }
 ],
 "metadata": {
  "kernelspec": {
   "display_name": "Python 3",
   "language": "python",
   "name": "python3"
  },
  "language_info": {
   "codemirror_mode": {
    "name": "ipython",
    "version": 3
   },
   "file_extension": ".py",
   "mimetype": "text/x-python",
   "name": "python",
   "nbconvert_exporter": "python",
   "pygments_lexer": "ipython3",
   "version": "3.8.8"
  }
 },
 "nbformat": 4,
 "nbformat_minor": 5
}
