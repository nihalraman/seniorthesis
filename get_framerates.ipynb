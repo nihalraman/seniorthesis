{
 "cells": [
  {
   "cell_type": "code",
   "execution_count": 20,
   "id": "5f36c2fd-1e51-4f9f-bfa4-b786de186188",
   "metadata": {},
   "outputs": [],
   "source": [
    "import os\n",
    "import cv2\n",
    "import time"
   ]
  },
  {
   "cell_type": "code",
   "execution_count": 49,
   "id": "f2c759d5-39a5-4b1e-87ed-aa24984a0994",
   "metadata": {},
   "outputs": [],
   "source": [
    "def framerate(vid):\n",
    "    # Start default camera\n",
    "    cam = cv2.VideoCapture(vid)\n",
    "\n",
    "    fps = cam.get(cv2.CAP_PROP_FPS)\n",
    "    \n",
    "    return (fps)"
   ]
  },
  {
   "cell_type": "code",
   "execution_count": 52,
   "id": "201ba116-194a-4b73-9aba-52f7136be173",
   "metadata": {},
   "outputs": [],
   "source": [
    "base = \"/Users/nraman/Documents/thesis_videos/\"\n",
    "videos = [i for i in os.listdir(base) if \".mp4\" in i or \".MOV\" in i]\n",
    "\n",
    "for video in videos:\n",
    "    if(framerate(f\"{base}{video}\") < 29):\n",
    "        print(framerate(f\"{base}{video}\"))"
   ]
  },
  {
   "cell_type": "code",
   "execution_count": 53,
   "id": "f9267197-b792-4335-95f3-2fb3dae7ceb3",
   "metadata": {},
   "outputs": [],
   "source": [
    "# ALL VIDEOS AS OF 12/28 are 30 fps!"
   ]
  },
  {
   "cell_type": "code",
   "execution_count": null,
   "id": "514c9b9e-5ac9-4493-8547-43991aab8d41",
   "metadata": {},
   "outputs": [],
   "source": []
  },
  {
   "cell_type": "code",
   "execution_count": null,
   "id": "c9c7690a-c086-46af-83bd-c7ef18c0a622",
   "metadata": {},
   "outputs": [],
   "source": []
  }
 ],
 "metadata": {
  "kernelspec": {
   "display_name": "Python 3",
   "language": "python",
   "name": "python3"
  },
  "language_info": {
   "codemirror_mode": {
    "name": "ipython",
    "version": 3
   },
   "file_extension": ".py",
   "mimetype": "text/x-python",
   "name": "python",
   "nbconvert_exporter": "python",
   "pygments_lexer": "ipython3",
   "version": "3.8.8"
  }
 },
 "nbformat": 4,
 "nbformat_minor": 5
}
