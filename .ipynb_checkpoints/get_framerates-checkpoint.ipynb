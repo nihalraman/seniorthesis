{
 "cells": [
  {
   "cell_type": "code",
   "execution_count": 20,
   "id": "5f36c2fd-1e51-4f9f-bfa4-b786de186188",
   "metadata": {},
   "outputs": [],
   "source": [
    "import os\n",
    "import cv2\n",
    "import time"
   ]
  },
  {
   "cell_type": "code",
   "execution_count": 49,
   "id": "f2c759d5-39a5-4b1e-87ed-aa24984a0994",
   "metadata": {},
   "outputs": [],
   "source": [
    "def framerate(vid):\n",
    "    # Start default camera\n",
    "    cam = cv2.VideoCapture(vid)\n",
    "\n",
    "    fps = cam.get(cv2.CAP_PROP_FPS)\n",
    "    \n",
    "    return (fps)"
   ]
  },
  {
   "cell_type": "code",
   "execution_count": 52,
   "id": "201ba116-194a-4b73-9aba-52f7136be173",
   "metadata": {},
   "outputs": [],
   "source": [
    "base = \"/Users/nraman/Documents/thesis_videos/\"\n",
    "videos = [i for i in os.listdir(base) if \".mp4\" in i or \".MOV\" in i]\n",
    "\n",
    "for video in videos:\n",
    "    if(framerate(f\"{base}{video}\") < 29):\n",
    "        print(framerate(f\"{base}{video}\"))"
   ]
  },
  {
   "cell_type": "code",
   "execution_count": 38,
   "id": "f9267197-b792-4335-95f3-2fb3dae7ceb3",
   "metadata": {},
   "outputs": [
    {
     "data": {
      "text/plain": [
       "['time7_3.mp4',\n",
       " 'nandi_no.mp4',\n",
       " 'ground7_13.mp4',\n",
       " 'glue7_11.mp4',\n",
       " 'glue7_4.mp4',\n",
       " 'glue7_5.mp4',\n",
       " 'glue7_10.mp4',\n",
       " 'ground7_12.mp4',\n",
       " 'time7_2.mp4',\n",
       " 'ground7_10.mp4',\n",
       " 'glue7_12.mp4',\n",
       " 'glue7_7.mp4',\n",
       " 'glue7_6.mp4',\n",
       " 'glue7_13.mp4',\n",
       " 'ground7_11.mp4',\n",
       " 'time7_1.mp4',\n",
       " 'time7_5.mp4',\n",
       " 'ground7_15.mp4',\n",
       " 'glue7_2.mp4',\n",
       " 'glue7_17.mp4',\n",
       " 'glue7_3.mp4',\n",
       " 'ground7_14.mp4',\n",
       " 'time7_4.mp4',\n",
       " 'time7_6.mp4',\n",
       " 'ground7_8.mp4',\n",
       " 'ground7_16.mp4',\n",
       " 'glue7_1.mp4',\n",
       " 'glue7_14.mp4',\n",
       " 'glue7_15.mp4',\n",
       " 'ground7_17.mp4',\n",
       " 'time7_7.mp4',\n",
       " 'ground7_9.mp4',\n",
       " 'ground12_5.MOV',\n",
       " 'glue2.mp4',\n",
       " 'glue3.mp4',\n",
       " 'ground12_4.MOV',\n",
       " 'ground12_6.MOV',\n",
       " 'glue1.mp4',\n",
       " 'ground12_7.MOV',\n",
       " 'ground12_3.MOV',\n",
       " 'glue4.mp4',\n",
       " 'nandi_redsox.mp4',\n",
       " 'glue5.mp4',\n",
       " 'ground12_2.MOV',\n",
       " 'ground12_1.MOV',\n",
       " 'nandi_celtics.mp4',\n",
       " 'no12_2.MOV',\n",
       " 'off1.mp4',\n",
       " 'no12_3.MOV',\n",
       " 'time7_14.mp4',\n",
       " 'no12_1.MOV',\n",
       " 'off2.mp4',\n",
       " 'off3.mp4',\n",
       " 'time7_15.mp4',\n",
       " 'no12_4.MOV',\n",
       " 'time7_11.mp4',\n",
       " 'no12_5.MOV',\n",
       " 'time7_10.mp4',\n",
       " 'time7_12.mp4',\n",
       " 'no12_7.MOV',\n",
       " 'off4.mp4',\n",
       " 'off5.mp4',\n",
       " 'time7_13.mp4',\n",
       " 'no12_6.MOV',\n",
       " 'ground7_4.mp4',\n",
       " 'glue7_18.mp4',\n",
       " 'nandi_yes.mp4',\n",
       " 'nandi_hello.mp4',\n",
       " 'pizza12_4.MOV',\n",
       " 'ground7_5.mp4',\n",
       " 'ground7_7.mp4',\n",
       " 'time7_9.mp4',\n",
       " 'ground7_19.mp4',\n",
       " 'ground7_18.mp4',\n",
       " 'ground7_6.mp4',\n",
       " 'time7_8.mp4',\n",
       " 'ground7_2.mp4',\n",
       " 'pizza12_3.MOV',\n",
       " 'ground7_20.mp4',\n",
       " 'pizza12_2.MOV',\n",
       " 'ground7_3.mp4',\n",
       " 'ground7_1.mp4',\n",
       " 'glue7_8.mp4',\n",
       " 'glue7_9.mp4',\n",
       " 'pizza12_1.MOV']"
      ]
     },
     "execution_count": 38,
     "metadata": {},
     "output_type": "execute_result"
    }
   ],
   "source": [
    "# ALL VIDEOS AS OF 12/28 are 30 fps"
   ]
  },
  {
   "cell_type": "code",
   "execution_count": null,
   "id": "514c9b9e-5ac9-4493-8547-43991aab8d41",
   "metadata": {},
   "outputs": [],
   "source": []
  },
  {
   "cell_type": "code",
   "execution_count": null,
   "id": "c9c7690a-c086-46af-83bd-c7ef18c0a622",
   "metadata": {},
   "outputs": [],
   "source": []
  }
 ],
 "metadata": {
  "kernelspec": {
   "display_name": "Python 3",
   "language": "python",
   "name": "python3"
  },
  "language_info": {
   "codemirror_mode": {
    "name": "ipython",
    "version": 3
   },
   "file_extension": ".py",
   "mimetype": "text/x-python",
   "name": "python",
   "nbconvert_exporter": "python",
   "pygments_lexer": "ipython3",
   "version": "3.8.8"
  }
 },
 "nbformat": 4,
 "nbformat_minor": 5
}
